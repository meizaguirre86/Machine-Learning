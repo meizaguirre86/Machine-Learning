{
 "cells": [
  {
   "cell_type": "code",
   "execution_count": 785,
   "metadata": {},
   "outputs": [],
   "source": [
    "import csv\n",
    "import tensorflow as tf\n",
    "import numpy as np\n",
    "from tensorflow.keras.preprocessing.text import Tokenizer\n",
    "from tensorflow.keras.preprocessing.sequence import pad_sequences\n",
    "from nltk.corpus import stopwords\n",
    "import string\n",
    "from nltk.stem.snowball import SnowballStemmer\n",
    "import random\n",
    "import io"
   ]
  },
  {
   "cell_type": "code",
   "execution_count": 786,
   "metadata": {},
   "outputs": [],
   "source": [
    "vocab_size = 1000\n",
    "embedding_dim = 16\n",
    "max_length = 10\n",
    "trunc_type = 'post'\n",
    "padding_type = 'post'\n",
    "oov_tok = '<OOV>'\n",
    "training_portion = 0.95"
   ]
  },
  {
   "cell_type": "code",
   "execution_count": 787,
   "metadata": {},
   "outputs": [],
   "source": [
    "comments = []\n",
    "labels = []\n",
    "stopwords = set(stopwords.words('spanish'))"
   ]
  },
  {
   "cell_type": "code",
   "execution_count": 788,
   "metadata": {},
   "outputs": [],
   "source": [
    "def Normalize(text):\n",
    "    #QUITAMOS ACENTOS\n",
    "        \n",
    "    \n",
    "    #QUITAMOS \\n y \\r. TEXTO EN MINÚSCULA\n",
    "    text = text.replace('\\n', ' ').replace('\\r', '').lower()\n",
    "    \n",
    "    #QUITAMOS NÚMEROS\n",
    "    text = ''.join([i for i in text if not i.isdigit()])\n",
    "    \n",
    "    #QUITAMOS PUNTUACIÓN\n",
    "    text = \"\".join(l for l in text if l not in (string.punctuation,'?','¿',',','.'))\n",
    "    \n",
    "    #QUITAMOS DOBLES ESPACIOS\n",
    "    text = ' '.join(text.split())\n",
    "\n",
    "    #STEMMING Y QUITAMOS STOPWORDS\n",
    "    stemmer = SnowballStemmer(\"spanish\")\n",
    "    words = text.split()\n",
    "    text = ''\n",
    "    for word in words:\n",
    "        if not word in stopwords:\n",
    "            stemmed_word = stemmer.stem(word)\n",
    "            text = text + \" \" + stemmed_word\n",
    "    \n",
    "    return text"
   ]
  },
  {
   "cell_type": "code",
   "execution_count": 789,
   "metadata": {},
   "outputs": [],
   "source": [
    "with io.open(r\"C:\\Users\\meiza\\Documents\\GitHub\\Machine-Learning\\Political Trends in FC - RNN\\Dataset\\dataset.csv\", 'r',encoding='latin-1') as csvfile:\n",
    "    reader = csv.reader(csvfile, delimiter=',', quotechar=\"'\")\n",
    "    #next(reader)\n",
    "    for row in reader:\n",
    "        labels.append(row[0])\n",
    "        comment = Normalize(row[1])        \n",
    "        comments.append(comment)\n"
   ]
  },
  {
   "cell_type": "code",
   "execution_count": 790,
   "metadata": {},
   "outputs": [],
   "source": [
    "#MEZCLAMOS EL DATASET YA QUE EN EL CSV ORIGINAL ESTÁN ORDENADOS\n",
    "joint = list(zip(labels, comments))\n",
    "\n",
    "random.shuffle(joint)\n",
    "\n",
    "labels, comments = zip(*joint)\n",
    "\n",
    "#SEPARAMOS ENTRE DATOS PARA ENTRENAR MODELO Y DATOS PARA VALIDAR\n",
    "train_size = int(len(comments) * training_portion)\n",
    "train_comments = comments[:train_size]\n",
    "train_labels = labels[:train_size]\n",
    "validation_comments = comments[train_size:]\n",
    "validation_labels = labels[train_size:]"
   ]
  },
  {
   "cell_type": "code",
   "execution_count": 791,
   "metadata": {},
   "outputs": [],
   "source": [
    "#INICIAMOS TOKENIZER CON NUESTRO DATASET DE ENTRENO\n",
    "tokenizer = Tokenizer(num_words = vocab_size, oov_token=oov_tok)\n",
    "tokenizer.fit_on_texts(train_comments)\n",
    "word_index = tokenizer.word_index\n",
    "\n",
    "#TRANSFORMAMOS NUESTRO TEXTO EN TOKENS\n",
    "train_sequences = tokenizer.texts_to_sequences(train_comments)\n",
    "\n",
    "#PADDING A LOS COMENTARIOS QUE NO LLEGUEN A MAX_LENGTH.\n",
    "train_padded = pad_sequences(train_sequences, padding=padding_type, maxlen=max_length)\n",
    "\n",
    "#TOKENIZAMOS Y AÑADIMOS PADDING AL DATASET DE VALIDACIÓN\n",
    "validation_sequences = tokenizer.texts_to_sequences(validation_comments)\n",
    "validation_padded = pad_sequences(validation_sequences, padding=padding_type, maxlen=max_length)\n",
    "\n",
    "#TRANSFORMAMOS A NUMPY LOS LABELS\n",
    "train_labels = np.array(train_labels).astype('int')\n",
    "validation_labels = np.array(validation_labels).astype('int')\n"
   ]
  },
  {
   "cell_type": "code",
   "execution_count": 792,
   "metadata": {},
   "outputs": [
    {
     "name": "stdout",
     "output_type": "stream",
     "text": [
      "Model: \"sequential_45\"\n",
      "_________________________________________________________________\n",
      "Layer (type)                 Output Shape              Param #   \n",
      "=================================================================\n",
      "embedding_45 (Embedding)     (None, 10, 16)            16000     \n",
      "_________________________________________________________________\n",
      "bidirectional_35 (Bidirectio (None, 10, 128)           41472     \n",
      "_________________________________________________________________\n",
      "bidirectional_36 (Bidirectio (None, 64)                41216     \n",
      "_________________________________________________________________\n",
      "dense_87 (Dense)             (None, 64)                4160      \n",
      "_________________________________________________________________\n",
      "dropout_3 (Dropout)          (None, 64)                0         \n",
      "_________________________________________________________________\n",
      "dense_88 (Dense)             (None, 2)                 130       \n",
      "=================================================================\n",
      "Total params: 102,978\n",
      "Trainable params: 102,978\n",
      "Non-trainable params: 0\n",
      "_________________________________________________________________\n"
     ]
    }
   ],
   "source": [
    "#CREAMOS MODELO\n",
    "model = tf.keras.Sequential([\n",
    "    tf.keras.layers.Embedding(vocab_size, embedding_dim, input_length=max_length),\n",
    "    tf.keras.layers.Bidirectional(tf.keras.layers.LSTM(64,  return_sequences=True)),\n",
    "    tf.keras.layers.Bidirectional(tf.keras.layers.LSTM(32)),\n",
    "    tf.keras.layers.Dense(64, activation='relu'),\n",
    "    tf.keras.layers.Dropout(0.5),\n",
    "    tf.keras.layers.Dense(2, activation='softmax')\n",
    "])\n",
    "\n",
    "#COMPILAMOS MODELO\n",
    "model.compile(loss=tf.keras.losses.SparseCategoricalCrossentropy(),\n",
    "              optimizer=tf.keras.optimizers.Adam(),\n",
    "              metrics=['accuracy'])\n",
    "\n",
    "\n",
    "\n",
    "model.summary()"
   ]
  },
  {
   "cell_type": "code",
   "execution_count": 793,
   "metadata": {},
   "outputs": [
    {
     "name": "stdout",
     "output_type": "stream",
     "text": [
      "Train on 2135 samples, validate on 113 samples\n",
      "Epoch 1/15\n",
      "2135/2135 [==============================] - 10s 5ms/sample - loss: 0.6759 - accuracy: 0.5841 - val_loss: 0.6450 - val_accuracy: 0.6460\n",
      "Epoch 2/15\n",
      "2135/2135 [==============================] - 2s 844us/sample - loss: 0.3810 - accuracy: 0.8323 - val_loss: 0.3931 - val_accuracy: 0.8230\n",
      "Epoch 3/15\n",
      "2135/2135 [==============================] - 2s 848us/sample - loss: 0.2303 - accuracy: 0.8937 - val_loss: 0.4520 - val_accuracy: 0.7699\n",
      "Epoch 4/15\n",
      "2135/2135 [==============================] - 2s 887us/sample - loss: 0.1857 - accuracy: 0.9176 - val_loss: 0.4918 - val_accuracy: 0.7611\n",
      "Epoch 5/15\n",
      "2135/2135 [==============================] - 2s 855us/sample - loss: 0.1514 - accuracy: 0.9288 - val_loss: 0.5452 - val_accuracy: 0.7345\n",
      "Epoch 6/15\n",
      "2135/2135 [==============================] - 2s 845us/sample - loss: 0.1371 - accuracy: 0.9372 - val_loss: 0.5596 - val_accuracy: 0.7611\n",
      "Epoch 7/15\n",
      "2135/2135 [==============================] - 2s 845us/sample - loss: 0.1108 - accuracy: 0.9475 - val_loss: 0.5026 - val_accuracy: 0.8142\n",
      "Epoch 8/15\n",
      "2135/2135 [==============================] - 2s 856us/sample - loss: 0.1127 - accuracy: 0.9466 - val_loss: 0.6751 - val_accuracy: 0.7965\n",
      "Epoch 9/15\n",
      "2135/2135 [==============================] - 2s 911us/sample - loss: 0.1062 - accuracy: 0.9522 - val_loss: 0.6470 - val_accuracy: 0.7788\n",
      "Epoch 10/15\n",
      "2135/2135 [==============================] - 2s 1ms/sample - loss: 0.0833 - accuracy: 0.9602 - val_loss: 0.6100 - val_accuracy: 0.8230\n",
      "Epoch 11/15\n",
      "2135/2135 [==============================] - 2s 1ms/sample - loss: 0.0810 - accuracy: 0.9546 - val_loss: 0.7580 - val_accuracy: 0.8407\n",
      "Epoch 12/15\n",
      "2135/2135 [==============================] - 2s 1ms/sample - loss: 0.0734 - accuracy: 0.9555 - val_loss: 0.9378 - val_accuracy: 0.7965\n",
      "Epoch 13/15\n",
      "2135/2135 [==============================] - 2s 1ms/sample - loss: 0.0700 - accuracy: 0.9635 - val_loss: 0.7981 - val_accuracy: 0.8142\n",
      "Epoch 14/15\n",
      "2135/2135 [==============================] - 2s 1ms/sample - loss: 0.1388 - accuracy: 0.9429 - val_loss: 0.6883 - val_accuracy: 0.7965\n",
      "Epoch 15/15\n",
      "2135/2135 [==============================] - 2s 1ms/sample - loss: 0.0828 - accuracy: 0.9621 - val_loss: 0.6796 - val_accuracy: 0.7699\n"
     ]
    }
   ],
   "source": [
    "#ENTRENAMOS MODELO\n",
    "\n",
    "num_epochs = 15\n",
    "history = model.fit(train_padded, train_labels, epochs=num_epochs, validation_data=(validation_padded, validation_labels))"
   ]
  },
  {
   "cell_type": "code",
   "execution_count": 794,
   "metadata": {},
   "outputs": [],
   "source": [
    "def Predict(text):\n",
    "    print(text)\n",
    "    input_data = Normalize(text)\n",
    "    print(input_data)\n",
    "    input_data = tokenizer.texts_to_sequences([input_data])\n",
    "    print(input_data)\n",
    "    input_data = pad_sequences(input_data, padding=padding_type, maxlen=max_length)\n",
    "    pred = model.predict(input_data)\n",
    "    return pred"
   ]
  },
  {
   "cell_type": "code",
   "execution_count": 805,
   "metadata": {},
   "outputs": [
    {
     "name": "stdout",
     "output_type": "stream",
     "text": [
      "gorda me la pone melafo\n",
      " gord pon melaf\n",
      "[[619, 45, 1]]\n",
      "Predicción: [[0.95266706 0.04733289]]\n"
     ]
    }
   ],
   "source": [
    "x = Predict('gorda me la pone melafo')\n",
    "print(\"Predicción:\", x)"
   ]
  },
  {
   "cell_type": "code",
   "execution_count": 810,
   "metadata": {},
   "outputs": [
    {
     "name": "stdout",
     "output_type": "stream",
     "text": [
      "vete a por una paguita\n",
      " vet paguit\n",
      "[[1, 330]]\n",
      "Predicción: [[2.2523265e-04 9.9977475e-01]]\n"
     ]
    }
   ],
   "source": [
    "x = Predict('vete a por una paguita')\n",
    "print(\"Predicción:\", x)"
   ]
  },
  {
   "cell_type": "code",
   "execution_count": null,
   "metadata": {},
   "outputs": [],
   "source": []
  },
  {
   "cell_type": "code",
   "execution_count": null,
   "metadata": {},
   "outputs": [],
   "source": []
  }
 ],
 "metadata": {
  "kernelspec": {
   "display_name": "Python 3",
   "language": "python",
   "name": "python3"
  },
  "language_info": {
   "codemirror_mode": {
    "name": "ipython",
    "version": 3
   },
   "file_extension": ".py",
   "mimetype": "text/x-python",
   "name": "python",
   "nbconvert_exporter": "python",
   "pygments_lexer": "ipython3",
   "version": "3.7.7"
  }
 },
 "nbformat": 4,
 "nbformat_minor": 4
}
